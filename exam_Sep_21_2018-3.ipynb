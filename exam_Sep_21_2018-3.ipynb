{
 "cells": [
  {
   "cell_type": "markdown",
   "metadata": {},
   "source": [
    "Before you turn this problem in, make sure everything runs as expected. First, **restart the kernel** (in the menubar, select Kernel$\\rightarrow$Restart) and then **run all cells** (in the menubar, select Cell$\\rightarrow$Run All).\n",
    "\n",
    "Make sure you fill in any place that says `YOUR CODE HERE` or \"YOUR ANSWER HERE\", as well as your name and collaborators below:"
   ]
  },
  {
   "cell_type": "code",
   "execution_count": 44,
   "metadata": {},
   "outputs": [],
   "source": [
    "NAME = \"Willem van der Meiden, 2014236\"\n",
    "COLLABORATORS = \"\""
   ]
  },
  {
   "cell_type": "markdown",
   "metadata": {},
   "source": [
    "---"
   ]
  },
  {
   "cell_type": "markdown",
   "metadata": {
    "deletable": false,
    "editable": false,
    "nbgrader": {
     "checksum": "e53eb7da4b90cccdbeb5924177a0d295",
     "grade": false,
     "grade_id": "cell-bace731f185b39bb",
     "locked": true,
     "schema_version": 1,
     "solution": false
    }
   },
   "source": [
    "Fill in the cell above to provide us with your name and student number, like\n",
    "\n",
    "NAME = \"Adam Smith, #student number#\"\n",
    "\n",
    "where you replace \"#student number#\" with your ... (very good!)\n",
    "\n",
    "Unfortunately, you are not allowed to work with \"COLLABORATORS\" in this exam."
   ]
  },
  {
   "cell_type": "markdown",
   "metadata": {
    "deletable": false,
    "editable": false,
    "nbgrader": {
     "checksum": "54f2a7cc5a4285f9082c5f4f2ff532f6",
     "grade": false,
     "grade_id": "cell-895e9a7b94992ec9",
     "locked": true,
     "schema_version": 1,
     "solution": false
    }
   },
   "source": [
    "# exam September 21st, 2018\n",
    "\n",
    "With this python part of the exam you can earn at max. 4 points.\n",
    "\n"
   ]
  },
  {
   "cell_type": "markdown",
   "metadata": {
    "deletable": false,
    "editable": false,
    "nbgrader": {
     "checksum": "611902f9d15318425217ea7c9329d3c4",
     "grade": false,
     "grade_id": "cell-540987818af25557",
     "locked": true,
     "schema_version": 1,
     "solution": false
    }
   },
   "source": [
    "\n",
    "In the first cell of the notebook, give us your name and student number in the way indicated above. \n",
    "\n",
    "Fill in the notebook (see below for code cells and text cells that you need to fill in).\n",
    "\n",
    "If you look at the menus above (File, Edit, View etc.), there is one called \"Cell\". If you click on this, you can change the \"Cell Type\". Choose \"Code\" when you are typing python or R code. Choose \"Markdown\" when you are typing, well, markdown.\n",
    "\n",
    "When you finish the notebook, make sure that you **save it with the output of your code included**. \n",
    "\n",
    "Then put it on github, e.g. by dragging it onto github (see instructions below). \n",
    "\n",
    "Finally, add a link to your README file with the name of this exam: \"Exam September 21, 2018\".\n",
    "\n"
   ]
  },
  {
   "cell_type": "markdown",
   "metadata": {
    "deletable": false,
    "editable": false,
    "nbgrader": {
     "checksum": "fbb9342b1fc9100447270d34e2af2d0b",
     "grade": false,
     "grade_id": "cell-e1cf88cb799f1f43",
     "locked": true,
     "schema_version": 1,
     "solution": false
    }
   },
   "source": [
    "## Generating and plotting data\n",
    "\n",
    "We start by importing the usual libraries."
   ]
  },
  {
   "cell_type": "code",
   "execution_count": 45,
   "metadata": {
    "deletable": false,
    "editable": false,
    "nbgrader": {
     "checksum": "7bd770ef54db47c3b6c8d0e31f6baef6",
     "grade": false,
     "grade_id": "cell-b895769bf40e183a",
     "locked": true,
     "schema_version": 1,
     "solution": false
    }
   },
   "outputs": [],
   "source": [
    "import matplotlib.pyplot as plt\n",
    "import pandas as pd\n",
    "import numpy as np\n",
    "from scipy import optimize\n",
    "%matplotlib inline"
   ]
  },
  {
   "cell_type": "markdown",
   "metadata": {
    "deletable": false,
    "editable": false,
    "nbgrader": {
     "checksum": "1133b2e8cbde213d1adfe10ae743bcb3",
     "grade": false,
     "grade_id": "cell-83284c4090d6de8c",
     "locked": true,
     "schema_version": 1,
     "solution": false
    }
   },
   "source": [
    "#### a) [0.5 point] Explain in words what the following code does. "
   ]
  },
  {
   "cell_type": "code",
   "execution_count": 46,
   "metadata": {
    "deletable": false,
    "editable": false,
    "nbgrader": {
     "checksum": "bc85672d4250f9fa3da40069544edd8a",
     "grade": false,
     "grade_id": "cell-7770128c0a989c60",
     "locked": true,
     "schema_version": 1,
     "solution": false
    }
   },
   "outputs": [],
   "source": [
    "n_observations = 100\n",
    "x = np.random.uniform(0,2,size=n_observations)\n",
    "df = pd.DataFrame({'x': x})"
   ]
  },
  {
   "cell_type": "markdown",
   "metadata": {
    "deletable": false,
    "nbgrader": {
     "checksum": "cae5873581f8c1e95ad12b5596742e37",
     "grade": true,
     "grade_id": "cell-8a5761555a34b60b",
     "locked": false,
     "points": 0.5,
     "schema_version": 1,
     "solution": true
    }
   },
   "source": [
    "**_The first line gives a number of observations we want to generate.\n",
    "The second line creates an array x in which 100 obersvations of a uniform distribution between 0 and 2 are stored.\n",
    "The last line converts this array x to a dataframe containing these observations._**"
   ]
  },
  {
   "cell_type": "markdown",
   "metadata": {
    "deletable": false,
    "editable": false,
    "nbgrader": {
     "checksum": "30021008cb6073d160066f0435f60950",
     "grade": false,
     "grade_id": "cell-1a9c57d4d1fc34dc",
     "locked": true,
     "schema_version": 1,
     "solution": false
    }
   },
   "source": [
    "Now we are going to add some columns to the dataframe `df`."
   ]
  },
  {
   "cell_type": "markdown",
   "metadata": {
    "deletable": false,
    "editable": false,
    "nbgrader": {
     "checksum": "89171c99b0cc926935c561c0e75d0eef",
     "grade": false,
     "grade_id": "cell-3b8ee172d9950128",
     "locked": true,
     "schema_version": 1,
     "solution": false
    }
   },
   "source": [
    "#### b) [0.5 points] Add two columns to the data frame: (i) column `y` where $y=3*x+5$ and (ii) column `z` where $z = (x-1)^2$."
   ]
  },
  {
   "cell_type": "code",
   "execution_count": 47,
   "metadata": {
    "deletable": false,
    "nbgrader": {
     "checksum": "3b93c97ec42f6da5773b2c6beb2a8ec2",
     "grade": true,
     "grade_id": "cell-a5e7853f661e19b2",
     "locked": false,
     "points": 0.5,
     "schema_version": 1,
     "solution": true
    }
   },
   "outputs": [
    {
     "data": {
      "text/html": [
       "<div>\n",
       "<table border=\"1\" class=\"dataframe\">\n",
       "  <thead>\n",
       "    <tr style=\"text-align: right;\">\n",
       "      <th></th>\n",
       "      <th>x</th>\n",
       "      <th>y</th>\n",
       "      <th>z</th>\n",
       "    </tr>\n",
       "  </thead>\n",
       "  <tbody>\n",
       "    <tr>\n",
       "      <th>0</th>\n",
       "      <td>1.855597</td>\n",
       "      <td>10.566790</td>\n",
       "      <td>0.732046</td>\n",
       "    </tr>\n",
       "    <tr>\n",
       "      <th>1</th>\n",
       "      <td>1.271700</td>\n",
       "      <td>8.815099</td>\n",
       "      <td>0.073821</td>\n",
       "    </tr>\n",
       "    <tr>\n",
       "      <th>2</th>\n",
       "      <td>0.021888</td>\n",
       "      <td>5.065664</td>\n",
       "      <td>0.956703</td>\n",
       "    </tr>\n",
       "    <tr>\n",
       "      <th>3</th>\n",
       "      <td>0.440774</td>\n",
       "      <td>6.322321</td>\n",
       "      <td>0.312734</td>\n",
       "    </tr>\n",
       "    <tr>\n",
       "      <th>4</th>\n",
       "      <td>1.665943</td>\n",
       "      <td>9.997828</td>\n",
       "      <td>0.443480</td>\n",
       "    </tr>\n",
       "  </tbody>\n",
       "</table>\n",
       "</div>"
      ],
      "text/plain": [
       "          x          y         z\n",
       "0  1.855597  10.566790  0.732046\n",
       "1  1.271700   8.815099  0.073821\n",
       "2  0.021888   5.065664  0.956703\n",
       "3  0.440774   6.322321  0.312734\n",
       "4  1.665943   9.997828  0.443480"
      ]
     },
     "execution_count": 47,
     "metadata": {},
     "output_type": "execute_result"
    }
   ],
   "source": [
    "def y(x):            #Defining function y=3*x+5\n",
    "    ans = 3*x+5\n",
    "    return ans\n",
    "\n",
    "def z(x):            #Defining function z=(x-1)^2\n",
    "    ans = (x-1)**2\n",
    "    return ans\n",
    "\n",
    "df['y'] = y(x) #Adding column y to the dataframe passing each uniform observation x trough y(x)\n",
    "df['z'] = z(x) #Above, but with z\n",
    "df.head()"
   ]
  },
  {
   "cell_type": "markdown",
   "metadata": {
    "deletable": false,
    "editable": false,
    "nbgrader": {
     "checksum": "42f4e83dc3792b0d2a08cda8eb7d4405",
     "grade": false,
     "grade_id": "cell-4b33762aa4a601fe",
     "locked": true,
     "schema_version": 1,
     "solution": false
    }
   },
   "source": [
    "#### c) [0.5 point] Calculate the means and standard deviations for `x` and `y`. \n",
    "\n",
    "[hint: you can do this with one command or with four separate commands]"
   ]
  },
  {
   "cell_type": "code",
   "execution_count": 48,
   "metadata": {
    "deletable": false,
    "nbgrader": {
     "checksum": "024a1519155d681b57c85292df535a65",
     "grade": true,
     "grade_id": "cell-5ee215676b91f504",
     "locked": false,
     "points": 0.5,
     "schema_version": 1,
     "solution": true
    }
   },
   "outputs": [
    {
     "name": "stdout",
     "output_type": "stream",
     "text": [
      "x:\n",
      "mean = 1.06972206234 and Standard deviation = 0.560352214354\n",
      "\n",
      "y:\n",
      "mean = 8.20916618702 and Standard deviation = 1.68105664306\n",
      "\n"
     ]
    }
   ],
   "source": [
    "print('x:')\n",
    "print('mean =' , df['x'].mean() ,'and', 'Standard deviation =', df['x'].std())\n",
    "print('')\n",
    "\n",
    "print('y:')\n",
    "print('mean =' , df['y'].mean() , 'and', 'Standard deviation =', df['y'].std())\n",
    "print('')"
   ]
  },
  {
   "cell_type": "markdown",
   "metadata": {
    "deletable": false,
    "editable": false,
    "nbgrader": {
     "checksum": "12a2717f05680c0404067457f21dacc5",
     "grade": false,
     "grade_id": "cell-3cc076ae39753881",
     "locked": true,
     "schema_version": 1,
     "solution": false
    }
   },
   "source": [
    "#### d) [0.5 points] Use your knowledge of statistics to explain the relations (i) between the means of `x` and `y` and (ii) between the standard deviations of `x` and `y`."
   ]
  },
  {
   "cell_type": "code",
   "execution_count": 49,
   "metadata": {
    "deletable": false,
    "nbgrader": {
     "checksum": "6ac5f7f87f79a5a580298b70eb6603c6",
     "grade": true,
     "grade_id": "cell-0f18e4fded25833f",
     "locked": false,
     "points": 0.5,
     "schema_version": 1,
     "solution": true
    }
   },
   "outputs": [
    {
     "name": "stdout",
     "output_type": "stream",
     "text": [
      "8.20916618702\n",
      "1.68105664306\n"
     ]
    }
   ],
   "source": [
    "#i)\n",
    "#The mean can be used in calculations as if it was a normal number.\n",
    "#Therefore multipling the expected value of x by 3 and adding 5 gives\n",
    "#the mean of y as illustrated below\n",
    "\n",
    "print(y(df['x'].mean()))\n",
    "\n",
    "#ii)\n",
    "#The standard deviation of a function gets twice as big when the whole\n",
    "#function gets twice as big. Therefore the standard deviation of y is\n",
    "#three times as large as the standard deviation of x. Standard deviation\n",
    "#does not depend on the location of the formula, so adding or substracting\n",
    "#has no influence on the standard deviation. Therefore the +5 can be ignored\n",
    "\n",
    "print(df['x'].std()*3)\n"
   ]
  },
  {
   "cell_type": "markdown",
   "metadata": {},
   "source": [
    "#### e) [1 point] Plot a histogram of `x` with fractions (not absolute numbers) on the vertical axis. Add the label $x$ to the horizontal axis."
   ]
  },
  {
   "cell_type": "code",
   "execution_count": 50,
   "metadata": {
    "deletable": false,
    "nbgrader": {
     "checksum": "0f23770a6c058f433beccc75429b57dc",
     "grade": true,
     "grade_id": "cell-e88dc4842fb2c38c",
     "locked": false,
     "points": 1,
     "schema_version": 1,
     "solution": true
    }
   },
   "outputs": [
    {
     "data": {
      "image/png": "[encoded data removed]",
      "text/plain": [
       "<matplotlib.figure.Figure at 0x7f0eebb2f048>"
      ]
     },
     "metadata": {},
     "output_type": "display_data"
    }
   ],
   "source": [
    "plt.hist(x, normed=1)    #giving the type of the plot: hist, normed=1 for fractions instead of absolute numbers\n",
    "plt.ylabel('Fractions')  #adding ylabel and xlabel\n",
    "plt.xlabel('x')\n",
    "plt.show()               #printing the plot"
   ]
  },
  {
   "cell_type": "markdown",
   "metadata": {
    "deletable": false,
    "editable": false,
    "nbgrader": {
     "checksum": "da92092c0fc6badf93776373de6f98c0",
     "grade": false,
     "grade_id": "cell-9847a5147fc6bc0b",
     "locked": true,
     "schema_version": 1,
     "solution": false
    }
   },
   "source": [
    "#### f) [0.5 points] Make a scatter plot of `y` vs `z` with the label $y$ on the horizontal axis and the label $z$ on the vertical axis."
   ]
  },
  {
   "cell_type": "code",
   "execution_count": 51,
   "metadata": {
    "deletable": false,
    "nbgrader": {
     "checksum": "d9385c965608e0babffe255a7d375e19",
     "grade": true,
     "grade_id": "cell-6c036cfb38c024d3",
     "locked": false,
     "points": 0.5,
     "schema_version": 1,
     "solution": true
    }
   },
   "outputs": [
    {
     "data": {
      "image/png": "[encoded data removed]",
      "text/plain": [
       "<matplotlib.figure.Figure at 0x7f0eeb9c3cc0>"
      ]
     },
     "metadata": {},
     "output_type": "display_data"
    }
   ],
   "source": [
    "plt.scatter(df['y'],df['z']) #giving the type of the plot: scatter\n",
    "plt.xlabel('y')              #adding xlabel and ylabel\n",
    "plt.ylabel('z')\n",
    "plt.show()                   #printing the plot"
   ]
  },
  {
   "cell_type": "markdown",
   "metadata": {},
   "source": [
    "This relation looks rather \"perfect\". We want to make a \"noisy\" version of this graph.\n",
    "\n",
    "#### g) [0.5 points] Create a variable `z2` equal to `z` but with some \"noise\" added to it. That is, add a random variable (vector) with mean 0 to `z` to get `z2`. Then plot `y` against `z2`. Adjust the standard deviation of the \"noise\" variable such that the shape of the figure under f) can still be recognized but not perfectly.\n",
    "\n",
    "[hint: under a) you have seen the library that contains functions to create a \"noisy variable\"]"
   ]
  },
  {
   "cell_type": "code",
   "execution_count": 52,
   "metadata": {
    "deletable": false,
    "nbgrader": {
     "checksum": "86b22fc81cb0732c67f8ae691dc00bcb",
     "grade": true,
     "grade_id": "cell-7fa47e5d66a06417",
     "locked": false,
     "points": 0.5,
     "schema_version": 1,
     "solution": true
    }
   },
   "outputs": [
    {
     "data": {
      "image/png": "[encoded data removed]",
      "text/plain": [
       "<matplotlib.figure.Figure at 0x7f0eec16b780>"
      ]
     },
     "metadata": {},
     "output_type": "display_data"
    }
   ],
   "source": [
    "#Creating 100 uniformly distributed observations inbetween -0.25 and 0.25\n",
    "#After tryng a few times -0.25 and 0.25 seemed good boundries because\n",
    "#the parabolic shape is clearly visible, but not perfect.\n",
    "noise = np.random.uniform(-0.25,0.25, size=n_observations)\n",
    "\n",
    "#Converting the generated array into a dataframe\n",
    "#The dataframe contains a column z2 which equals z+noise in order to\n",
    "#achieve the distortion\n",
    "df_noise = pd.DataFrame({'z2': df['z']+noise})\n",
    "\n",
    "#The plot is created just as in excersise f\n",
    "plt.scatter(df['y'], df_noise['z2'])\n",
    "plt.xlabel('y')\n",
    "plt.ylabel('z2')\n",
    "plt.show()"
   ]
  },
  {
   "cell_type": "markdown",
   "metadata": {},
   "source": [
    "## Github\n",
    "\n",
    "After you have finished, we need to upload this notebook on github."
   ]
  },
  {
   "cell_type": "markdown",
   "metadata": {},
   "source": [
    "Instructions on how to upload this on github can be found [on this page](http://janboone.github.io/programming-for-economists/github.html). This page has two screencasts: one shows how to drag the notebook onto your github page, the other shows how you can use the command line to upload your notebook.\n"
   ]
  },
  {
   "cell_type": "markdown",
   "metadata": {},
   "source": [
    "Remember to update the README file in your repository to include a link to this notebook on github.\n",
    "\n",
    "\n",
    "The links that you should post start with “github.com/” and are NOT of the form “http://localhost”. Make sure you test your links after uploading."
   ]
  },
  {
   "cell_type": "code",
   "execution_count": null,
   "metadata": {},
   "outputs": [],
   "source": []
  }
 ],
 "metadata": {
  "anaconda-cloud": {},
  "kernelspec": {
   "display_name": "Python 3",
   "language": "python",
   "name": "python3"
  },
  "language_info": {
   "codemirror_mode": {
    "name": "ipython",
    "version": 3
   },
   "file_extension": ".py",
   "mimetype": "text/x-python",
   "name": "python",
   "nbconvert_exporter": "python",
   "pygments_lexer": "ipython3",
   "version": "3.5.3"
  }
 },
 "nbformat": 4,
 "nbformat_minor": 1
}
